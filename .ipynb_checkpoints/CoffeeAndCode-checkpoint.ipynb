{
 "cells": [
  {
   "cell_type": "markdown",
   "id": "6d287e6b",
   "metadata": {},
   "source": [
    "# Coffee And Code\n",
    "---\n",
    "##### Roxana Haghgoo 9811309 - Horiya Asadsangabi 9811301\n",
    "###### 2022 - 1401"
   ]
  },
  {
   "cell_type": "code",
   "execution_count": 1,
   "id": "58351f4a",
   "metadata": {},
   "outputs": [],
   "source": [
    "# import liberies\n",
    "import numpy as np\n",
    "import pandas as pd\n",
    "import matplotlib.pyplot as plt\n"
   ]
  },
  {
   "cell_type": "code",
   "execution_count": 2,
   "id": "71571793",
   "metadata": {},
   "outputs": [],
   "source": [
    "# declare settings\n",
    "# colors :\n",
    "color1 = '#303841' #greyish blue\n",
    "color2 = '#30475E' #dark blue\n",
    "color3 = '#EA5455' #light Red\n",
    "color4 = '#30475E'\n",
    "color5 = '#D72323' #Red\n",
    "color6 = '#FF6E31' #orange\n",
    "color7 = '#0F4C75' #blue\n",
    "color8 = '#E84545'\n",
    "color9 = '#155263' #dark blue\n",
    "color10 = '#FEA82F' #yellow"
   ]
  },
  {
   "cell_type": "markdown",
   "id": "42d2cd6d",
   "metadata": {},
   "source": [
    "### Geting To Know Our Data\n",
    "---"
   ]
  },
  {
   "cell_type": "code",
   "execution_count": 3,
   "id": "acd77cb7",
   "metadata": {},
   "outputs": [
    {
     "data": {
      "text/html": [
       "<div>\n",
       "<style scoped>\n",
       "    .dataframe tbody tr th:only-of-type {\n",
       "        vertical-align: middle;\n",
       "    }\n",
       "\n",
       "    .dataframe tbody tr th {\n",
       "        vertical-align: top;\n",
       "    }\n",
       "\n",
       "    .dataframe thead th {\n",
       "        text-align: right;\n",
       "    }\n",
       "</style>\n",
       "<table border=\"1\" class=\"dataframe\">\n",
       "  <thead>\n",
       "    <tr style=\"text-align: right;\">\n",
       "      <th></th>\n",
       "      <th>CodingHours</th>\n",
       "      <th>CoffeeCupsPerDay</th>\n",
       "      <th>CoffeeTime</th>\n",
       "      <th>CodingWithoutCoffee</th>\n",
       "      <th>CoffeeType</th>\n",
       "      <th>CoffeeSolveBugs</th>\n",
       "      <th>Gender</th>\n",
       "      <th>Country</th>\n",
       "      <th>AgeRange</th>\n",
       "    </tr>\n",
       "  </thead>\n",
       "  <tbody>\n",
       "    <tr>\n",
       "      <th>0</th>\n",
       "      <td>8</td>\n",
       "      <td>2</td>\n",
       "      <td>Before coding</td>\n",
       "      <td>Yes</td>\n",
       "      <td>Caffè latte</td>\n",
       "      <td>Sometimes</td>\n",
       "      <td>Female</td>\n",
       "      <td>Lebanon</td>\n",
       "      <td>18 to 29</td>\n",
       "    </tr>\n",
       "    <tr>\n",
       "      <th>1</th>\n",
       "      <td>3</td>\n",
       "      <td>2</td>\n",
       "      <td>Before coding</td>\n",
       "      <td>Yes</td>\n",
       "      <td>Americano</td>\n",
       "      <td>Yes</td>\n",
       "      <td>Female</td>\n",
       "      <td>Lebanon</td>\n",
       "      <td>30 to 39</td>\n",
       "    </tr>\n",
       "    <tr>\n",
       "      <th>2</th>\n",
       "      <td>5</td>\n",
       "      <td>3</td>\n",
       "      <td>While coding</td>\n",
       "      <td>No</td>\n",
       "      <td>Nescafe</td>\n",
       "      <td>Yes</td>\n",
       "      <td>Female</td>\n",
       "      <td>Lebanon</td>\n",
       "      <td>18 to 29</td>\n",
       "    </tr>\n",
       "    <tr>\n",
       "      <th>3</th>\n",
       "      <td>8</td>\n",
       "      <td>2</td>\n",
       "      <td>Before coding</td>\n",
       "      <td>No</td>\n",
       "      <td>Nescafe</td>\n",
       "      <td>Yes</td>\n",
       "      <td>Male</td>\n",
       "      <td>Lebanon</td>\n",
       "      <td>NaN</td>\n",
       "    </tr>\n",
       "    <tr>\n",
       "      <th>4</th>\n",
       "      <td>10</td>\n",
       "      <td>3</td>\n",
       "      <td>While coding</td>\n",
       "      <td>Sometimes</td>\n",
       "      <td>Turkish</td>\n",
       "      <td>No</td>\n",
       "      <td>Male</td>\n",
       "      <td>Lebanon</td>\n",
       "      <td>18 to 29</td>\n",
       "    </tr>\n",
       "  </tbody>\n",
       "</table>\n",
       "</div>"
      ],
      "text/plain": [
       "   CodingHours  CoffeeCupsPerDay     CoffeeTime CodingWithoutCoffee  \\\n",
       "0            8                 2  Before coding                 Yes   \n",
       "1            3                 2  Before coding                 Yes   \n",
       "2            5                 3   While coding                  No   \n",
       "3            8                 2  Before coding                  No   \n",
       "4           10                 3   While coding           Sometimes   \n",
       "\n",
       "    CoffeeType CoffeeSolveBugs  Gender  Country  AgeRange  \n",
       "0  Caffè latte       Sometimes  Female  Lebanon  18 to 29  \n",
       "1    Americano             Yes  Female  Lebanon  30 to 39  \n",
       "2      Nescafe             Yes  Female  Lebanon  18 to 29  \n",
       "3      Nescafe             Yes    Male  Lebanon       NaN  \n",
       "4      Turkish              No    Male  Lebanon  18 to 29  "
      ]
     },
     "execution_count": 3,
     "metadata": {},
     "output_type": "execute_result"
    }
   ],
   "source": [
    "#loading the dataset\n",
    "df = pd.read_csv('./datasets/Dataset01-CoffeeAndCode/CoffeeAndCode.csv')\n",
    "df.head()"
   ]
  },
  {
   "cell_type": "code",
   "execution_count": 4,
   "id": "469c582c",
   "metadata": {},
   "outputs": [
    {
     "data": {
      "text/plain": [
       "(100, 9)"
      ]
     },
     "execution_count": 4,
     "metadata": {},
     "output_type": "execute_result"
    }
   ],
   "source": [
    "# dataset shape (rows, columns)\n",
    "df.shape"
   ]
  },
  {
   "cell_type": "code",
   "execution_count": 5,
   "id": "10c45946",
   "metadata": {},
   "outputs": [
    {
     "data": {
      "text/plain": [
       "CodingHours            10\n",
       "CoffeeCupsPerDay        8\n",
       "CoffeeTime              7\n",
       "CodingWithoutCoffee     3\n",
       "CoffeeType              8\n",
       "CoffeeSolveBugs         3\n",
       "Gender                  2\n",
       "Country                 1\n",
       "AgeRange                5\n",
       "dtype: int64"
      ]
     },
     "execution_count": 5,
     "metadata": {},
     "output_type": "execute_result"
    }
   ],
   "source": [
    "# number of uniqe data in each field\n",
    "df.nunique()"
   ]
  },
  {
   "cell_type": "markdown",
   "id": "1830003e",
   "metadata": {},
   "source": [
    "## Genders\n",
    "---"
   ]
  },
  {
   "cell_type": "code",
   "execution_count": 6,
   "id": "39018ba9",
   "metadata": {},
   "outputs": [
    {
     "data": {
      "image/png": "[encoded data removed]",
      "text/plain": [
       "<Figure size 1296x432 with 1 Axes>"
      ]
     },
     "metadata": {},
     "output_type": "display_data"
    }
   ],
   "source": [
    "mens = df['Gender'].shape[0]\n",
    "womens = df['Gender'].shape[0]\n",
    "plt.figure(figsize=(18,6))\n",
    "plt.pie([mens,womens],labels=['Men','Women'],autopct='%1d%%',colors=[color2,color3]);\n",
    "plt.title(\"Percentage Of Mens and Woments \")\n",
    "plt.show()"
   ]
  },
  {
   "cell_type": "markdown",
   "id": "447bfc57",
   "metadata": {},
   "source": [
    "## Ages\n",
    "---"
   ]
  },
  {
   "cell_type": "code",
   "execution_count": 7,
   "id": "ec7d12f2",
   "metadata": {},
   "outputs": [
    {
     "data": {
      "text/plain": [
       "AgeRange\n",
       "18 to 29    60\n",
       "30 to 39    29\n",
       "40 to 49     6\n",
       "50 to 59     1\n",
       "Under 18     2\n",
       "dtype: int64"
      ]
     },
     "execution_count": 7,
     "metadata": {},
     "output_type": "execute_result"
    }
   ],
   "source": [
    "# number of people in each Age Range\n",
    "df['AgeRange'].dropna( axis = 'index', inplace=True )\n",
    "AgeRanges = df.groupby('AgeRange')\n",
    "AgeRangesCount = AgeRanges.size()\n",
    "AgeRangesCount"
   ]
  },
  {
   "cell_type": "code",
   "execution_count": 8,
   "id": "8ee82d29",
   "metadata": {},
   "outputs": [
    {
     "data": {
      "image/png": "[encoded data removed]",
      "text/plain": [
       "<Figure size 432x288 with 1 Axes>"
      ]
     },
     "metadata": {
      "needs_background": "light"
     },
     "output_type": "display_data"
    }
   ],
   "source": [
    "# Age Ranges Bar chart\n",
    "x= df.groupby('AgeRange').groups.keys()\n",
    "y= df.groupby('AgeRange')['AgeRange'].count()\n",
    "fig, ax = plt.subplots()\n",
    "ax.bar(x,y, color=color1, width=0.6)\n",
    "ax.bar_label(ax.containers[0], label_type='edge')\n",
    "ax.set_title(\"Age Ranges Frequency\")\n",
    "ax.set_xlabel(\"Age Groups\")\n",
    "ax.set_ylabel(\"Number of people\")\n",
    "plt.show()\n"
   ]
  },
  {
   "cell_type": "markdown",
   "id": "5a1ad78a",
   "metadata": {},
   "source": [
    "## Coding Hours\n",
    "---"
   ]
  },
  {
   "cell_type": "code",
   "execution_count": 9,
   "id": "0106c262",
   "metadata": {},
   "outputs": [
    {
     "data": {
      "image/png": "[encoded data removed]",
      "text/plain": [
       "<Figure size 432x288 with 1 Axes>"
      ]
     },
     "metadata": {
      "needs_background": "light"
     },
     "output_type": "display_data"
    }
   ],
   "source": [
    "bins = [1,2,3,4,5,6,7,8,9,10]\n",
    "fig, ax = plt.subplots()\n",
    "ax.hist(df['CodingHours'],bins=bins,color=color2)\n",
    "ax.bar_label(ax.containers[0], label_type='edge')\n",
    "ax.set_xticks(bins)\n",
    "ax.set_title(\"codding Hour\")\n",
    "ax.set_xlabel(\"coding Hour\")\n",
    "ax.set_ylabel(\"Number of people\")\n",
    "plt.show()"
   ]
  },
  {
   "cell_type": "markdown",
   "id": "fc07dc01",
   "metadata": {},
   "source": [
    "## Coffee Cups Per Day"
   ]
  },
  {
   "cell_type": "code",
   "execution_count": 10,
   "id": "08ad1c6f",
   "metadata": {},
   "outputs": [
    {
     "data": {
      "image/png": "[encoded data removed]",
      "text/plain": [
       "<Figure size 432x288 with 1 Axes>"
      ]
     },
     "metadata": {
      "needs_background": "light"
     },
     "output_type": "display_data"
    }
   ],
   "source": [
    "bins = [0,2,4,6,8,10]\n",
    "fig, ax = plt.subplots()\n",
    "ax.hist(df['CoffeeCupsPerDay'],bins=bins,color=color2)\n",
    "ax.bar_label(ax.containers[0], label_type='edge')\n",
    "ax.set_xticks(bins)\n",
    "ax.set_title(\"Coffee Cups Per Day\")\n",
    "ax.set_xlabel(\"Cups per Day\")\n",
    "ax.set_ylabel(\"Number of people\")\n",
    "plt.show()"
   ]
  },
  {
   "cell_type": "markdown",
   "id": "c2d2674c",
   "metadata": {},
   "source": [
    "### Coding Hours and Coffee Cups Per Day\n",
    "---"
   ]
  },
  {
   "cell_type": "code",
   "execution_count": 11,
   "id": "445e4760",
   "metadata": {},
   "outputs": [
    {
     "data": {
      "text/plain": [
       "0.31369165125626997"
      ]
     },
     "execution_count": 11,
     "metadata": {},
     "output_type": "execute_result"
    }
   ],
   "source": [
    "codingHours = df['CodingHours']\n",
    "cupsperday = df['CoffeeCupsPerDay']\n",
    "CorrelationValue = cupsperday.corr(codingHours)\n",
    "CorrelationValue"
   ]
  },
  {
   "cell_type": "code",
   "execution_count": 12,
   "id": "22fbdc18",
   "metadata": {},
   "outputs": [
    {
     "data": {
      "text/plain": [
       "<matplotlib.collections.PathCollection at 0x1889a32eaa0>"
      ]
     },
     "execution_count": 12,
     "metadata": {},
     "output_type": "execute_result"
    },
    {
     "data": {
      "image/png": "[encoded data removed]",
      "text/plain": [
       "<Figure size 432x288 with 1 Axes>"
      ]
     },
     "metadata": {
      "needs_background": "light"
     },
     "output_type": "display_data"
    }
   ],
   "source": [
    "fig, ax = plt.subplots()\n",
    "ax.scatter(df['CodingHours'], df['CoffeeCupsPerDay'], alpha=0.5, color=color5)"
   ]
  },
  {
   "cell_type": "markdown",
   "id": "375307a4",
   "metadata": {},
   "source": [
    "## Coding Without Coffee\n",
    "---"
   ]
  },
  {
   "cell_type": "code",
   "execution_count": 13,
   "id": "cfa8e39f",
   "metadata": {},
   "outputs": [
    {
     "data": {
      "image/png": "[encoded data removed]",
      "text/plain": [
       "<Figure size 432x288 with 1 Axes>"
      ]
     },
     "metadata": {},
     "output_type": "display_data"
    }
   ],
   "source": [
    "yes = df.loc[df['CodingWithoutCoffee']=='Yes'].count()[0]\n",
    "no = df.loc[df['CodingWithoutCoffee']=='No'].count()[0]\n",
    "sometimes = df.loc[df['CodingWithoutCoffee']=='Sometimes'].count()[0]\n",
    "fig, ax = plt.subplots()\n",
    "ax.pie([yes, no, sometimes], labels=['Yes', 'No', 'sometimes'], autopct='%1d%%',colors=['#243763','#579BB1',color7])\n",
    "ax.set_title(\"Coding Without Coffee\")\n",
    "plt.show()"
   ]
  },
  {
   "cell_type": "markdown",
   "id": "12180ed6",
   "metadata": {},
   "source": [
    "## Coffee Time\n",
    "---"
   ]
  },
  {
   "cell_type": "code",
   "execution_count": 14,
   "id": "567af026",
   "metadata": {},
   "outputs": [
    {
     "data": {
      "text/plain": [
       "CoffeeTime\n",
       "After coding                2\n",
       "All the time                4\n",
       "Before and while coding     4\n",
       "Before coding              25\n",
       "In the morning              3\n",
       "No specific time            1\n",
       "While coding               61\n",
       "dtype: int64"
      ]
     },
     "execution_count": 14,
     "metadata": {},
     "output_type": "execute_result"
    }
   ],
   "source": [
    "CoffeeTime = df.groupby('CoffeeTime')\n",
    "CoffeeTimeCount = CoffeeTime.size()\n",
    "CoffeeTimeCount"
   ]
  },
  {
   "cell_type": "code",
   "execution_count": 15,
   "id": "75753251",
   "metadata": {},
   "outputs": [
    {
     "data": {
      "image/png": "[encoded data removed]",
      "text/plain": [
       "<Figure size 432x288 with 1 Axes>"
      ]
     },
     "metadata": {
      "needs_background": "light"
     },
     "output_type": "display_data"
    }
   ],
   "source": [
    "x= df.groupby('CoffeeTime').groups.keys()\n",
    "y= df.groupby('CoffeeTime')['CoffeeTime'].count()\n",
    "\n",
    "fig, ax = plt.subplots()\n",
    "ax.bar(x,y, color=color2)\n",
    "ax.bar_label(ax.containers[0], label_type='edge')\n",
    "ax.set_title(\"Coffee Time\")\n",
    "ax.set_xlabel(\"Times\")\n",
    "ax.set_ylabel(\"Number of people\")\n",
    "plt.xticks(rotation=45, ha='right')\n",
    "plt.show()"
   ]
  },
  {
   "cell_type": "markdown",
   "id": "ccf63d62",
   "metadata": {},
   "source": [
    "## Coffee Solve Bugs?\n",
    "---"
   ]
  },
  {
   "cell_type": "code",
   "execution_count": 16,
   "id": "e09b48ea",
   "metadata": {},
   "outputs": [
    {
     "data": {
      "text/plain": [
       "array(['Sometimes', 'Yes', 'No'], dtype=object)"
      ]
     },
     "execution_count": 16,
     "metadata": {},
     "output_type": "execute_result"
    }
   ],
   "source": [
    "df['CoffeeSolveBugs'].unique()"
   ]
  },
  {
   "cell_type": "code",
   "execution_count": 17,
   "id": "980574b4",
   "metadata": {},
   "outputs": [
    {
     "data": {
      "image/png": "[encoded data removed]",
      "text/plain": [
       "<Figure size 432x288 with 1 Axes>"
      ]
     },
     "metadata": {},
     "output_type": "display_data"
    }
   ],
   "source": [
    "yes = df.loc[df['CoffeeSolveBugs']=='Yes'].count()[0]\n",
    "no = df.loc[df['CoffeeSolveBugs']=='No'].count()[0]\n",
    "sometimes = df.loc[df['CoffeeSolveBugs']=='Sometimes'].count()[0]\n",
    "fig, ax = plt.subplots()\n",
    "ax.pie([yes, no, sometimes], labels=['Yes', 'No', 'sometimes'], autopct='%1d%%', colors=['#243763','#579BB1',color7])\n",
    "ax.set_title('Coffee Solve Bugs')\n",
    "plt.show()"
   ]
  },
  {
   "cell_type": "markdown",
   "id": "e4d3e26b",
   "metadata": {},
   "source": [
    "## Coffee Type\n",
    "---"
   ]
  },
  {
   "cell_type": "code",
   "execution_count": 18,
   "id": "cfb7d0b5",
   "metadata": {},
   "outputs": [
    {
     "data": {
      "text/plain": [
       "CoffeeType\n",
       "American Coffee             23\n",
       "Americano                    2\n",
       "Caffè latte                  5\n",
       "Cappuccino                   7\n",
       "Double Espresso (Doppio)     3\n",
       "Espresso (Short Black)       8\n",
       "Nescafe                     32\n",
       "Turkish                     19\n",
       "dtype: int64"
      ]
     },
     "execution_count": 18,
     "metadata": {},
     "output_type": "execute_result"
    }
   ],
   "source": [
    "CoffeeType = df.groupby('CoffeeType')\n",
    "CoffeeTypeCount = CoffeeType.size()\n",
    "CoffeeTypeCount"
   ]
  },
  {
   "cell_type": "code",
   "execution_count": 20,
   "id": "3905253b",
   "metadata": {},
   "outputs": [
    {
     "data": {
      "image/png": "[encoded data removed]",
      "text/plain": [
       "<Figure size 432x288 with 1 Axes>"
      ]
     },
     "metadata": {
      "needs_background": "light"
     },
     "output_type": "display_data"
    }
   ],
   "source": [
    "x= df.groupby('CoffeeType').groups.keys()\n",
    "y= df.groupby('CoffeeType')['CoffeeType'].count()\n",
    "\n",
    "fig, ax = plt.subplots()\n",
    "ax.bar(x,y, color=color9)\n",
    "ax.bar_label(ax.containers[0], label_type='edge')\n",
    "ax.set_title(\"Coffee Types\")\n",
    "ax.set_xlabel(\"Coffee Types\")\n",
    "ax.set_ylabel(\"Number of people\")\n",
    "plt.xticks(rotation=45, ha='right')\n",
    "plt.show()"
   ]
  },
  {
   "cell_type": "code",
   "execution_count": null,
   "id": "632ef07f",
   "metadata": {},
   "outputs": [],
   "source": []
  },
  {
   "cell_type": "code",
   "execution_count": null,
   "id": "33f62e7d",
   "metadata": {},
   "outputs": [],
   "source": []
  }
 ],
 "metadata": {
  "kernelspec": {
   "display_name": "Python 3 (ipykernel)",
   "language": "python",
   "name": "python3"
  },
  "language_info": {
   "codemirror_mode": {
    "name": "ipython",
    "version": 3
   },
   "file_extension": ".py",
   "mimetype": "text/x-python",
   "name": "python",
   "nbconvert_exporter": "python",
   "pygments_lexer": "ipython3",
   "version": "3.10.2"
  },
  "vscode": {
   "interpreter": {
    "hash": "8545e1858fbe9015a3af4e7a23e6df42e93575f49d7a2360c77eeeb19d87791c"
   }
  }
 },
 "nbformat": 4,
 "nbformat_minor": 5
}
