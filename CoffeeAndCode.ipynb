{
 "cells": [
  {
   "cell_type": "code",
   "execution_count": 2,
   "id": "58351f4a",
   "metadata": {},
   "outputs": [],
   "source": [
    "import numpy as np\n",
    "import pandas as pd\n",
    "import matplotlib.pyplot as plt\n",
    "import seaborn as sns"
   ]
  },
  {
   "cell_type": "code",
   "execution_count": 3,
   "id": "acd77cb7",
   "metadata": {},
   "outputs": [
    {
     "data": {
      "text/html": [
       "<div>\n",
       "<style scoped>\n",
       "    .dataframe tbody tr th:only-of-type {\n",
       "        vertical-align: middle;\n",
       "    }\n",
       "\n",
       "    .dataframe tbody tr th {\n",
       "        vertical-align: top;\n",
       "    }\n",
       "\n",
       "    .dataframe thead th {\n",
       "        text-align: right;\n",
       "    }\n",
       "</style>\n",
       "<table border=\"1\" class=\"dataframe\">\n",
       "  <thead>\n",
       "    <tr style=\"text-align: right;\">\n",
       "      <th></th>\n",
       "      <th>CodingHours</th>\n",
       "      <th>CoffeeCupsPerDay</th>\n",
       "      <th>CoffeeTime</th>\n",
       "      <th>CodingWithoutCoffee</th>\n",
       "      <th>CoffeeType</th>\n",
       "      <th>CoffeeSolveBugs</th>\n",
       "      <th>Gender</th>\n",
       "      <th>Country</th>\n",
       "      <th>AgeRange</th>\n",
       "    </tr>\n",
       "  </thead>\n",
       "  <tbody>\n",
       "    <tr>\n",
       "      <th>0</th>\n",
       "      <td>8</td>\n",
       "      <td>2</td>\n",
       "      <td>Before coding</td>\n",
       "      <td>Yes</td>\n",
       "      <td>Caffè latte</td>\n",
       "      <td>Sometimes</td>\n",
       "      <td>Female</td>\n",
       "      <td>Lebanon</td>\n",
       "      <td>18 to 29</td>\n",
       "    </tr>\n",
       "    <tr>\n",
       "      <th>1</th>\n",
       "      <td>3</td>\n",
       "      <td>2</td>\n",
       "      <td>Before coding</td>\n",
       "      <td>Yes</td>\n",
       "      <td>Americano</td>\n",
       "      <td>Yes</td>\n",
       "      <td>Female</td>\n",
       "      <td>Lebanon</td>\n",
       "      <td>30 to 39</td>\n",
       "    </tr>\n",
       "    <tr>\n",
       "      <th>2</th>\n",
       "      <td>5</td>\n",
       "      <td>3</td>\n",
       "      <td>While coding</td>\n",
       "      <td>No</td>\n",
       "      <td>Nescafe</td>\n",
       "      <td>Yes</td>\n",
       "      <td>Female</td>\n",
       "      <td>Lebanon</td>\n",
       "      <td>18 to 29</td>\n",
       "    </tr>\n",
       "    <tr>\n",
       "      <th>3</th>\n",
       "      <td>8</td>\n",
       "      <td>2</td>\n",
       "      <td>Before coding</td>\n",
       "      <td>No</td>\n",
       "      <td>Nescafe</td>\n",
       "      <td>Yes</td>\n",
       "      <td>Male</td>\n",
       "      <td>Lebanon</td>\n",
       "      <td>NaN</td>\n",
       "    </tr>\n",
       "    <tr>\n",
       "      <th>4</th>\n",
       "      <td>10</td>\n",
       "      <td>3</td>\n",
       "      <td>While coding</td>\n",
       "      <td>Sometimes</td>\n",
       "      <td>Turkish</td>\n",
       "      <td>No</td>\n",
       "      <td>Male</td>\n",
       "      <td>Lebanon</td>\n",
       "      <td>18 to 29</td>\n",
       "    </tr>\n",
       "  </tbody>\n",
       "</table>\n",
       "</div>"
      ],
      "text/plain": [
       "   CodingHours  CoffeeCupsPerDay     CoffeeTime CodingWithoutCoffee  \\\n",
       "0            8                 2  Before coding                 Yes   \n",
       "1            3                 2  Before coding                 Yes   \n",
       "2            5                 3   While coding                  No   \n",
       "3            8                 2  Before coding                  No   \n",
       "4           10                 3   While coding           Sometimes   \n",
       "\n",
       "    CoffeeType CoffeeSolveBugs  Gender  Country  AgeRange  \n",
       "0  Caffè latte       Sometimes  Female  Lebanon  18 to 29  \n",
       "1    Americano             Yes  Female  Lebanon  30 to 39  \n",
       "2      Nescafe             Yes  Female  Lebanon  18 to 29  \n",
       "3      Nescafe             Yes    Male  Lebanon       NaN  \n",
       "4      Turkish              No    Male  Lebanon  18 to 29  "
      ]
     },
     "execution_count": 3,
     "metadata": {},
     "output_type": "execute_result"
    }
   ],
   "source": [
    "df = pd.read_csv('./datasets/Dataset01-CoffeeAndCode/CoffeeAndCode.csv')\n",
    "df.head()"
   ]
  },
  {
   "cell_type": "code",
   "execution_count": 4,
   "id": "469c582c",
   "metadata": {},
   "outputs": [
    {
     "data": {
      "text/plain": [
       "(100, 9)"
      ]
     },
     "execution_count": 4,
     "metadata": {},
     "output_type": "execute_result"
    }
   ],
   "source": [
    "df.shape"
   ]
  },
  {
   "cell_type": "code",
   "execution_count": 6,
   "id": "10c45946",
   "metadata": {},
   "outputs": [
    {
     "data": {
      "text/plain": [
       "CodingHours            10\n",
       "CoffeeCupsPerDay        8\n",
       "CoffeeTime              7\n",
       "CodingWithoutCoffee     3\n",
       "CoffeeType              8\n",
       "CoffeeSolveBugs         3\n",
       "Gender                  2\n",
       "Country                 1\n",
       "AgeRange                5\n",
       "dtype: int64"
      ]
     },
     "execution_count": 6,
     "metadata": {},
     "output_type": "execute_result"
    }
   ],
   "source": [
    "df.nunique()"
   ]
  },
  {
   "attachments": {},
   "cell_type": "markdown",
   "id": "1830003e",
   "metadata": {},
   "source": [
    "## Gender"
   ]
  },
  {
   "cell_type": "code",
   "execution_count": 14,
   "id": "39018ba9",
   "metadata": {},
   "outputs": [
    {
     "data": {
      "image/png": "[encoded data removed]",
      "text/plain": [
       "<Figure size 1296x432 with 1 Axes>"
      ]
     },
     "metadata": {},
     "output_type": "display_data"
    }
   ],
   "source": [
    "mens = df['Gender'].shape[0]\n",
    "womens = df['Gender'].shape[0]\n",
    "plt.figure(figsize=(18,6))\n",
    "plt.pie([mens,womens],labels=['Men','Women'],shadow=True,autopct='%1.1f%%',colors=['#1F77B4','#ed4e4e']);"
   ]
  },
  {
   "cell_type": "code",
   "execution_count": 52,
   "id": "ec7d12f2",
   "metadata": {},
   "outputs": [
    {
     "data": {
      "text/plain": [
       "Text(0, 0.5, 'People')"
      ]
     },
     "execution_count": 52,
     "metadata": {},
     "output_type": "execute_result"
    },
    {
     "data": {
      "image/png": "[encoded data removed]",
      "text/plain": [
       "<Figure size 432x288 with 1 Axes>"
      ]
     },
     "metadata": {
      "needs_background": "light"
     },
     "output_type": "display_data"
    }
   ],
   "source": [
    "df['AgeRange'].dropna( axis = 'index', inplace=True )\n",
    "ageranges = df.groupby('AgeRange').size()\n",
    "ageranges.plot.bar(title='Age Ranges', color='#4287f5'); plt.xlabel('Age Groups'); plt.ylabel('People')  \n",
    "# ageranges.bar_label()\n",
    "# fig, ax = plt.subplots(figsize = (10,5))\n",
    "# ax.bar(ind,menMeans,width=0.4)"
   ]
  }
 ],
 "metadata": {
  "kernelspec": {
   "display_name": "Python 3 (ipykernel)",
   "language": "python",
   "name": "python3"
  },
  "language_info": {
   "codemirror_mode": {
    "name": "ipython",
    "version": 3
   },
   "file_extension": ".py",
   "mimetype": "text/x-python",
   "name": "python",
   "nbconvert_exporter": "python",
   "pygments_lexer": "ipython3",
   "version": "3.10.2"
  },
  "vscode": {
   "interpreter": {
    "hash": "8545e1858fbe9015a3af4e7a23e6df42e93575f49d7a2360c77eeeb19d87791c"
   }
  }
 },
 "nbformat": 4,
 "nbformat_minor": 5
}
